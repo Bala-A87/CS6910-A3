{
 "cells": [
  {
   "attachments": {},
   "cell_type": "markdown",
   "metadata": {},
   "source": [
    "## Loading data"
   ]
  },
  {
   "cell_type": "code",
   "execution_count": 1,
   "metadata": {},
   "outputs": [
    {
     "data": {
      "text/plain": [
       "(51200, 51200)"
      ]
     },
     "execution_count": 1,
     "metadata": {},
     "output_type": "execute_result"
    }
   ],
   "source": [
    "with open('data/aksharantar_sampled/tam/tam_train.csv') as f:\n",
    "    data_pairs = f.readlines()\n",
    "data_given = [pair.split(',')[0].strip().lower() for pair in data_pairs]\n",
    "data_target = [pair.split(',')[1].strip('\\n').strip() for pair in data_pairs]\n",
    "len(data_given), len(data_target)"
   ]
  },
  {
   "attachments": {},
   "cell_type": "markdown",
   "metadata": {},
   "source": [
    "## Building the alphabet"
   ]
  },
  {
   "cell_type": "code",
   "execution_count": 2,
   "metadata": {},
   "outputs": [],
   "source": [
    "class Alphabet():\n",
    "    def __init__(self) -> None:\n",
    "        self.letter_to_index = {}\n",
    "        self.index_to_letter = ['SOW', 'EOW', 'UNK']\n",
    "        self.letter_count = 3\n",
    "    \n",
    "    def addLetter(self, letter: str) -> None:\n",
    "        if letter not in self.letter_to_index:\n",
    "            self.letter_to_index[letter] = self.letter_count\n",
    "            self.index_to_letter.append(letter)\n",
    "            self.letter_count += 1"
   ]
  },
  {
   "cell_type": "code",
   "execution_count": 3,
   "metadata": {},
   "outputs": [
    {
     "name": "stdout",
     "output_type": "stream",
     "text": [
      "29 49\n"
     ]
    }
   ],
   "source": [
    "eng_alphabet, tam_alphabet = Alphabet(), Alphabet()\n",
    "for word in data_given:\n",
    "    for letter in word:\n",
    "        eng_alphabet.addLetter(letter)\n",
    "for word in data_target:\n",
    "    for letter in word:\n",
    "        tam_alphabet.addLetter(letter)\n",
    "print(eng_alphabet.letter_count, tam_alphabet.letter_count)"
   ]
  },
  {
   "attachments": {},
   "cell_type": "markdown",
   "metadata": {},
   "source": [
    "## Seq2Seq model"
   ]
  },
  {
   "cell_type": "code",
   "execution_count": 47,
   "metadata": {},
   "outputs": [],
   "source": [
    "import torch\n",
    "from torch import nn\n",
    "from torch.functional import F\n",
    "\n",
    "class Encoder(nn.Module):\n",
    "    def __init__(\n",
    "        self,\n",
    "        input_size: int,\n",
    "        hidden_size: int,\n",
    "        cell_type: nn.Module = nn.RNN,\n",
    "        num_layers: int = 1\n",
    "    ) -> None:\n",
    "        super().__init__()\n",
    "        self.hidden_size = hidden_size\n",
    "        self.num_layers = num_layers\n",
    "        self.is_lstm = (cell_type == nn.LSTM)\n",
    "        self.embedding = nn.Embedding(num_embeddings=input_size, embedding_dim=hidden_size)\n",
    "        self.encoder = cell_type(input_size=hidden_size, hidden_size=hidden_size, num_layers=num_layers) \n",
    "    \n",
    "    def forward(self, x, hidden):\n",
    "        output = self.embedding(x).reshape(1, 1, -1) \n",
    "        output, hidden = self.encoder(output, hidden)\n",
    "        return output, hidden\n",
    " \n",
    "    def initHidden(self):\n",
    "        return torch.zeros(self.num_layers, 1, self.hidden_size)"
   ]
  },
  {
   "cell_type": "code",
   "execution_count": 48,
   "metadata": {},
   "outputs": [],
   "source": [
    "class Decoder(nn.Module):\n",
    "    def __init__(\n",
    "        self,\n",
    "        hidden_size: int,\n",
    "        output_size: int,\n",
    "        cell_type: nn.Module = nn.RNN,\n",
    "        num_layers: int = 1\n",
    "    ) -> None:\n",
    "        super().__init__()\n",
    "        self.hidden_size = hidden_size\n",
    "        self.num_layers = num_layers\n",
    "        self.is_lstm = (cell_type == nn.LSTM)\n",
    "        self.embedding = nn.Embedding(num_embeddings=output_size, embedding_dim=hidden_size)\n",
    "        self.decoder = cell_type(input_size=hidden_size, hidden_size=hidden_size, num_layers=num_layers) \n",
    "        self.out = nn.Linear(in_features=hidden_size, out_features=output_size)\n",
    "        self.softmax = nn.LogSoftmax(dim=1)\n",
    "    \n",
    "    def forward(self, x, hidden):\n",
    "        output = self.embedding(x).reshape(1, 1, -1)\n",
    "        output = F.relu(output)\n",
    "        output, hidden = self.decoder(output, hidden)\n",
    "        output = self.softmax(self.out(output[0]))\n",
    "        return output, hidden\n",
    "\n",
    "    def initHidden(self):\n",
    "        return torch.zeros(self.num_layers, 1, self.hidden_size)\n"
   ]
  },
  {
   "attachments": {},
   "cell_type": "markdown",
   "metadata": {},
   "source": [
    "## Training"
   ]
  },
  {
   "cell_type": "code",
   "execution_count": 18,
   "metadata": {},
   "outputs": [
    {
     "data": {
      "text/plain": [
       "'cpu'"
      ]
     },
     "execution_count": 18,
     "metadata": {},
     "output_type": "execute_result"
    }
   ],
   "source": [
    "device = 'cuda' if torch.cuda.is_available() else 'cpu'\n",
    "device"
   ]
  },
  {
   "cell_type": "code",
   "execution_count": 7,
   "metadata": {},
   "outputs": [],
   "source": [
    "def word_to_tensor(alphabet: Alphabet, word: str) -> torch.Tensor:\n",
    "    chars = list(alphabet.letter_to_index[letter] for letter in word) + [1]\n",
    "    return torch.tensor(chars, dtype=torch.long).reshape(-1, 1)"
   ]
  },
  {
   "cell_type": "code",
   "execution_count": 54,
   "metadata": {},
   "outputs": [],
   "source": [
    "encoder = Encoder(eng_alphabet.letter_count, 64, num_layers=2, cell_type=nn.RNN).to(device)\n",
    "decoder = Decoder(64, tam_alphabet.letter_count, num_layers=1, cell_type=nn.RNN).to(device)\n",
    "optimizer_enc = torch.optim.Adam(encoder.parameters(), lr=1e-4)\n",
    "optimizer_dec = torch.optim.Adam(decoder.parameters(), lr=1e-4)\n",
    "loss_fn = torch.nn.NLLLoss()"
   ]
  },
  {
   "cell_type": "code",
   "execution_count": 55,
   "metadata": {},
   "outputs": [
    {
     "name": "stdout",
     "output_type": "stream",
     "text": [
      "Epoch 1/10\n",
      "[Batch 5000/51200] ==> 2.8134870529174805\n",
      "[Batch 10000/51200] ==> 2.5608909130096436\n",
      "[Batch 15000/51200] ==> 2.5125820636749268\n",
      "[Batch 20000/51200] ==> 2.5000059604644775\n",
      "[Batch 25000/51200] ==> 2.493377923965454\n",
      "[Batch 30000/51200] ==> 2.476017951965332\n",
      "[Batch 35000/51200] ==> 2.465585470199585\n",
      "[Batch 40000/51200] ==> 2.448047637939453\n",
      "[Batch 45000/51200] ==> 2.433969020843506\n",
      "[Batch 50000/51200] ==> 2.4359521865844727\n",
      "Epoch 2/10\n",
      "[Batch 5000/51200] ==> 2.4315733909606934\n",
      "[Batch 10000/51200] ==> 2.4206769466400146\n",
      "[Batch 15000/51200] ==> 2.4196364879608154\n",
      "[Batch 20000/51200] ==> 2.40851092338562\n",
      "[Batch 25000/51200] ==> 2.3925869464874268\n",
      "[Batch 30000/51200] ==> 2.394974946975708\n",
      "[Batch 35000/51200] ==> 2.399857759475708\n",
      "[Batch 40000/51200] ==> 2.382577657699585\n",
      "[Batch 45000/51200] ==> 2.3814778327941895\n",
      "[Batch 50000/51200] ==> 2.3724300861358643\n",
      "Epoch 3/10\n",
      "[Batch 5000/51200] ==> 2.372814178466797\n",
      "[Batch 10000/51200] ==> 2.3663806915283203\n",
      "[Batch 15000/51200] ==> 2.372725009918213\n",
      "[Batch 20000/51200] ==> 2.36002516746521\n",
      "[Batch 25000/51200] ==> 2.362666130065918\n",
      "[Batch 30000/51200] ==> 2.3685708045959473\n",
      "[Batch 35000/51200] ==> 2.3636929988861084\n",
      "[Batch 40000/51200] ==> 2.3509442806243896\n",
      "[Batch 45000/51200] ==> 2.363727569580078\n",
      "[Batch 50000/51200] ==> 2.3445427417755127\n",
      "Epoch 4/10\n",
      "[Batch 5000/51200] ==> 2.3393051624298096\n",
      "[Batch 10000/51200] ==> 2.3437342643737793\n",
      "[Batch 15000/51200] ==> 2.3442070484161377\n",
      "[Batch 20000/51200] ==> 2.330028533935547\n",
      "[Batch 25000/51200] ==> 2.343661308288574\n",
      "[Batch 30000/51200] ==> 2.3331007957458496\n",
      "[Batch 35000/51200] ==> 2.347292184829712\n",
      "[Batch 40000/51200] ==> 2.3346989154815674\n",
      "[Batch 45000/51200] ==> 2.3365602493286133\n",
      "[Batch 50000/51200] ==> 2.330819606781006\n",
      "Epoch 5/10\n",
      "[Batch 5000/51200] ==> 2.3307840824127197\n",
      "[Batch 10000/51200] ==> 2.3308498859405518\n",
      "[Batch 15000/51200] ==> 2.3313872814178467\n",
      "[Batch 20000/51200] ==> 2.3108489513397217\n",
      "[Batch 25000/51200] ==> 2.33624267578125\n",
      "[Batch 30000/51200] ==> 2.32129168510437\n",
      "[Batch 35000/51200] ==> 2.3192219734191895\n",
      "[Batch 40000/51200] ==> 2.322036027908325\n",
      "[Batch 45000/51200] ==> 2.3337604999542236\n",
      "[Batch 50000/51200] ==> 2.308544158935547\n",
      "Epoch 6/10\n",
      "[Batch 5000/51200] ==> 2.312274694442749\n",
      "[Batch 10000/51200] ==> 2.3164680004119873\n",
      "[Batch 15000/51200] ==> 2.3108508586883545\n",
      "[Batch 20000/51200] ==> 2.306098699569702\n",
      "[Batch 25000/51200] ==> 2.3149991035461426\n",
      "[Batch 30000/51200] ==> 2.3096628189086914\n",
      "[Batch 35000/51200] ==> 2.30465030670166\n",
      "[Batch 40000/51200] ==> 2.302774667739868\n",
      "[Batch 45000/51200] ==> 2.310828924179077\n",
      "[Batch 50000/51200] ==> 2.298036813735962\n",
      "Epoch 7/10\n",
      "[Batch 5000/51200] ==> 2.2989540100097656\n"
     ]
    },
    {
     "ename": "KeyboardInterrupt",
     "evalue": "",
     "output_type": "error",
     "traceback": [
      "\u001b[0;31m---------------------------------------------------------------------------\u001b[0m",
      "\u001b[0;31mKeyboardInterrupt\u001b[0m                         Traceback (most recent call last)",
      "Cell \u001b[0;32mIn[55], line 23\u001b[0m\n\u001b[1;32m     21\u001b[0m         output_enc, (hidden_enc, cell_enc) \u001b[39m=\u001b[39m encoder(char\u001b[39m.\u001b[39mto(device), (hidden_enc, cell_enc))\n\u001b[1;32m     22\u001b[0m     \u001b[39melse\u001b[39;00m:\n\u001b[0;32m---> 23\u001b[0m         output_enc, hidden_enc \u001b[39m=\u001b[39m encoder(char\u001b[39m.\u001b[39;49mto(device), hidden_enc)\n\u001b[1;32m     25\u001b[0m input_dec \u001b[39m=\u001b[39m torch\u001b[39m.\u001b[39mtensor([[\u001b[39m0\u001b[39m]])\n\u001b[1;32m     26\u001b[0m target_vector \u001b[39m=\u001b[39m word_to_tensor(tam_alphabet, data_target[train_index])\n",
      "File \u001b[0;32m~/.local/lib/python3.10/site-packages/torch/nn/modules/module.py:1194\u001b[0m, in \u001b[0;36mModule._call_impl\u001b[0;34m(self, *input, **kwargs)\u001b[0m\n\u001b[1;32m   1190\u001b[0m \u001b[39m# If we don't have any hooks, we want to skip the rest of the logic in\u001b[39;00m\n\u001b[1;32m   1191\u001b[0m \u001b[39m# this function, and just call forward.\u001b[39;00m\n\u001b[1;32m   1192\u001b[0m \u001b[39mif\u001b[39;00m \u001b[39mnot\u001b[39;00m (\u001b[39mself\u001b[39m\u001b[39m.\u001b[39m_backward_hooks \u001b[39mor\u001b[39;00m \u001b[39mself\u001b[39m\u001b[39m.\u001b[39m_forward_hooks \u001b[39mor\u001b[39;00m \u001b[39mself\u001b[39m\u001b[39m.\u001b[39m_forward_pre_hooks \u001b[39mor\u001b[39;00m _global_backward_hooks\n\u001b[1;32m   1193\u001b[0m         \u001b[39mor\u001b[39;00m _global_forward_hooks \u001b[39mor\u001b[39;00m _global_forward_pre_hooks):\n\u001b[0;32m-> 1194\u001b[0m     \u001b[39mreturn\u001b[39;00m forward_call(\u001b[39m*\u001b[39;49m\u001b[39minput\u001b[39;49m, \u001b[39m*\u001b[39;49m\u001b[39m*\u001b[39;49mkwargs)\n\u001b[1;32m   1195\u001b[0m \u001b[39m# Do not call functions when jit is used\u001b[39;00m\n\u001b[1;32m   1196\u001b[0m full_backward_hooks, non_full_backward_hooks \u001b[39m=\u001b[39m [], []\n",
      "Cell \u001b[0;32mIn[47], line 22\u001b[0m, in \u001b[0;36mEncoder.forward\u001b[0;34m(self, x, hidden)\u001b[0m\n\u001b[1;32m     20\u001b[0m \u001b[39mdef\u001b[39;00m \u001b[39mforward\u001b[39m(\u001b[39mself\u001b[39m, x, hidden):\n\u001b[1;32m     21\u001b[0m     output \u001b[39m=\u001b[39m \u001b[39mself\u001b[39m\u001b[39m.\u001b[39membedding(x)\u001b[39m.\u001b[39mreshape(\u001b[39m1\u001b[39m, \u001b[39m1\u001b[39m, \u001b[39m-\u001b[39m\u001b[39m1\u001b[39m) \n\u001b[0;32m---> 22\u001b[0m     output, hidden \u001b[39m=\u001b[39m \u001b[39mself\u001b[39;49m\u001b[39m.\u001b[39;49mencoder(output, hidden)\n\u001b[1;32m     23\u001b[0m     \u001b[39mreturn\u001b[39;00m output, hidden\n",
      "File \u001b[0;32m~/.local/lib/python3.10/site-packages/torch/nn/modules/module.py:1194\u001b[0m, in \u001b[0;36mModule._call_impl\u001b[0;34m(self, *input, **kwargs)\u001b[0m\n\u001b[1;32m   1190\u001b[0m \u001b[39m# If we don't have any hooks, we want to skip the rest of the logic in\u001b[39;00m\n\u001b[1;32m   1191\u001b[0m \u001b[39m# this function, and just call forward.\u001b[39;00m\n\u001b[1;32m   1192\u001b[0m \u001b[39mif\u001b[39;00m \u001b[39mnot\u001b[39;00m (\u001b[39mself\u001b[39m\u001b[39m.\u001b[39m_backward_hooks \u001b[39mor\u001b[39;00m \u001b[39mself\u001b[39m\u001b[39m.\u001b[39m_forward_hooks \u001b[39mor\u001b[39;00m \u001b[39mself\u001b[39m\u001b[39m.\u001b[39m_forward_pre_hooks \u001b[39mor\u001b[39;00m _global_backward_hooks\n\u001b[1;32m   1193\u001b[0m         \u001b[39mor\u001b[39;00m _global_forward_hooks \u001b[39mor\u001b[39;00m _global_forward_pre_hooks):\n\u001b[0;32m-> 1194\u001b[0m     \u001b[39mreturn\u001b[39;00m forward_call(\u001b[39m*\u001b[39;49m\u001b[39minput\u001b[39;49m, \u001b[39m*\u001b[39;49m\u001b[39m*\u001b[39;49mkwargs)\n\u001b[1;32m   1195\u001b[0m \u001b[39m# Do not call functions when jit is used\u001b[39;00m\n\u001b[1;32m   1196\u001b[0m full_backward_hooks, non_full_backward_hooks \u001b[39m=\u001b[39m [], []\n",
      "File \u001b[0;32m~/.local/lib/python3.10/site-packages/torch/nn/modules/rnn.py:476\u001b[0m, in \u001b[0;36mRNN.forward\u001b[0;34m(self, input, hx)\u001b[0m\n\u001b[1;32m    474\u001b[0m \u001b[39mif\u001b[39;00m batch_sizes \u001b[39mis\u001b[39;00m \u001b[39mNone\u001b[39;00m:\n\u001b[1;32m    475\u001b[0m     \u001b[39mif\u001b[39;00m \u001b[39mself\u001b[39m\u001b[39m.\u001b[39mmode \u001b[39m==\u001b[39m \u001b[39m'\u001b[39m\u001b[39mRNN_TANH\u001b[39m\u001b[39m'\u001b[39m:\n\u001b[0;32m--> 476\u001b[0m         result \u001b[39m=\u001b[39m _VF\u001b[39m.\u001b[39;49mrnn_tanh(\u001b[39minput\u001b[39;49m, hx, \u001b[39mself\u001b[39;49m\u001b[39m.\u001b[39;49m_flat_weights, \u001b[39mself\u001b[39;49m\u001b[39m.\u001b[39;49mbias, \u001b[39mself\u001b[39;49m\u001b[39m.\u001b[39;49mnum_layers,\n\u001b[1;32m    477\u001b[0m                               \u001b[39mself\u001b[39;49m\u001b[39m.\u001b[39;49mdropout, \u001b[39mself\u001b[39;49m\u001b[39m.\u001b[39;49mtraining, \u001b[39mself\u001b[39;49m\u001b[39m.\u001b[39;49mbidirectional,\n\u001b[1;32m    478\u001b[0m                               \u001b[39mself\u001b[39;49m\u001b[39m.\u001b[39;49mbatch_first)\n\u001b[1;32m    479\u001b[0m     \u001b[39melse\u001b[39;00m:\n\u001b[1;32m    480\u001b[0m         result \u001b[39m=\u001b[39m _VF\u001b[39m.\u001b[39mrnn_relu(\u001b[39minput\u001b[39m, hx, \u001b[39mself\u001b[39m\u001b[39m.\u001b[39m_flat_weights, \u001b[39mself\u001b[39m\u001b[39m.\u001b[39mbias, \u001b[39mself\u001b[39m\u001b[39m.\u001b[39mnum_layers,\n\u001b[1;32m    481\u001b[0m                               \u001b[39mself\u001b[39m\u001b[39m.\u001b[39mdropout, \u001b[39mself\u001b[39m\u001b[39m.\u001b[39mtraining, \u001b[39mself\u001b[39m\u001b[39m.\u001b[39mbidirectional,\n\u001b[1;32m    482\u001b[0m                               \u001b[39mself\u001b[39m\u001b[39m.\u001b[39mbatch_first)\n",
      "\u001b[0;31mKeyboardInterrupt\u001b[0m: "
     ]
    }
   ],
   "source": [
    "teacher_forcing_ratio = 0.5\n",
    "\n",
    "for epoch in range(10):\n",
    "    print(f'Epoch {epoch+1}/10')\n",
    "    avg_loss = 0.0\n",
    "    for train_index in range(len(data_given)):\n",
    "    # for train_index in range(1000):\n",
    "        hidden_enc = encoder.initHidden().to(device)\n",
    "        cell_enc = encoder.initHidden().to(device)\n",
    "\n",
    "        optimizer_enc.zero_grad()\n",
    "        optimizer_dec.zero_grad()\n",
    "\n",
    "        input_vector = word_to_tensor(eng_alphabet, data_given[train_index])\n",
    "        input_len = len(input_vector)\n",
    "\n",
    "        loss = 0.0\n",
    "\n",
    "        for char in input_vector:\n",
    "            if encoder.is_lstm:\n",
    "                output_enc, (hidden_enc, cell_enc) = encoder(char.to(device), (hidden_enc, cell_enc))\n",
    "            else:\n",
    "                output_enc, hidden_enc = encoder(char.to(device), hidden_enc)\n",
    "        \n",
    "        input_dec = torch.tensor([[0]])\n",
    "        target_vector = word_to_tensor(tam_alphabet, data_target[train_index])\n",
    "        target_len = len(target_vector)\n",
    "\n",
    "        if decoder.is_lstm:\n",
    "            cell_dec = torch.cat([cell_enc[-1].reshape(1, 1, -1)]*decoder.num_layers).to(device)\n",
    "        hidden_dec = torch.cat([hidden_enc[-1].reshape(1, 1, -1)]*decoder.num_layers).to(device)\n",
    "\n",
    "        use_teacher_forcing = True if torch.rand(1) < teacher_forcing_ratio else False\n",
    "\n",
    "        if use_teacher_forcing:\n",
    "            for di in range(target_len):\n",
    "                if decoder.is_lstm:\n",
    "                    output_dec, (hidden_dec, cell_dec) = decoder(input_dec.to(device), (hidden_dec, cell_dec))\n",
    "                else:\n",
    "                    output_dec, hidden_dec = decoder(input_dec.to(device), hidden_dec)\n",
    "                loss += loss_fn(output_dec, target_vector[di].to(device))\n",
    "                input_dec = target_vector[di]\n",
    "        else:\n",
    "            for di in range(target_len):\n",
    "                if decoder.is_lstm:\n",
    "                    output_dec, (hidden_dec, cell_dec) = decoder(input_dec.to(device), (hidden_dec, cell_dec))\n",
    "                else:\n",
    "                    output_dec, hidden_dec = decoder(input_dec.to(device), hidden_dec)\n",
    "                input_dec = output_dec.argmax(dim=1).squeeze().detach()\n",
    "                loss += loss_fn(output_dec, target_vector[di].to(device))\n",
    "                if input_dec.item() == 1:\n",
    "                    break\n",
    "        \n",
    "        loss.backward()\n",
    "        avg_loss += loss.detach() / target_len\n",
    "\n",
    "        optimizer_enc.step()\n",
    "        optimizer_dec.step()\n",
    "\n",
    "        if (train_index+1) % 5000 == 0:\n",
    "            avg_loss /= 5000\n",
    "            print(f'[Batch {train_index+1}/{len(data_given)}] ==> {avg_loss}')\n",
    "            avg_loss = 0."
   ]
  },
  {
   "cell_type": "code",
   "execution_count": 28,
   "metadata": {},
   "outputs": [],
   "source": [
    "chosen_index = 0\n",
    "\n",
    "with torch.inference_mode():\n",
    "    input_vector = word_to_tensor(eng_alphabet, data_given[chosen_index])\n",
    "    input_len = len(input_vector)\n",
    "    hidden_enc = encoder.initHidden().to(device)\n",
    "\n",
    "    for char in input_vector:\n",
    "        output_enc, hidden_enc = encoder(char.to(device), hidden_enc)\n",
    "\n",
    "    input_dec = torch.tensor([[0]])\n",
    "    hidden_dec = hidden_enc.to(device)\n",
    "\n",
    "    translit_chars = []\n",
    "\n",
    "    max_length = 100\n",
    "    while max_length > 0:\n",
    "        output_dec, hidden_dec = decoder(input_dec.to(device), hidden_dec)\n",
    "        pred_char_index = output_dec.data.argmax()\n",
    "        if pred_char_index.item() == 1:\n",
    "            translit_chars.append('EOW')\n",
    "            break\n",
    "        else:\n",
    "            translit_chars.append(tam_alphabet.index_to_letter[pred_char_index])\n",
    "        input_dec = pred_char_index.squeeze().detach()\n",
    "        max_length -= 1"
   ]
  },
  {
   "cell_type": "code",
   "execution_count": 29,
   "metadata": {},
   "outputs": [
    {
     "data": {
      "text/plain": [
       "('தொட்டர்யார', 'தொட்டாச்சார்ய', 'thottacharya')"
      ]
     },
     "execution_count": 29,
     "metadata": {},
     "output_type": "execute_result"
    }
   ],
   "source": [
    "''.join(translit_chars[:-1]), data_target[chosen_index], data_given[chosen_index]"
   ]
  },
  {
   "cell_type": "code",
   "execution_count": 21,
   "metadata": {},
   "outputs": [],
   "source": [
    "torch.cuda.empty_cache()"
   ]
  },
  {
   "cell_type": "code",
   "execution_count": 30,
   "metadata": {},
   "outputs": [
    {
     "data": {
      "text/plain": [
       "(4096, 4096)"
      ]
     },
     "execution_count": 30,
     "metadata": {},
     "output_type": "execute_result"
    }
   ],
   "source": [
    "with open('data/aksharantar_sampled/tam/tam_valid.csv') as f:\n",
    "    val_data_pairs = f.readlines()\n",
    "val_data_given = [pair.split(',')[0].strip().lower() for pair in val_data_pairs]\n",
    "val_data_target = [pair.split(',')[1].strip('\\n').strip() for pair in val_data_pairs]\n",
    "len(val_data_given), len(val_data_target)"
   ]
  },
  {
   "cell_type": "code",
   "execution_count": 49,
   "metadata": {},
   "outputs": [
    {
     "ename": "KeyboardInterrupt",
     "evalue": "",
     "output_type": "error",
     "traceback": [
      "\u001b[0;31m---------------------------------------------------------------------------\u001b[0m",
      "\u001b[0;31mKeyboardInterrupt\u001b[0m                         Traceback (most recent call last)",
      "Cell \u001b[0;32mIn[49], line 25\u001b[0m\n\u001b[1;32m     23\u001b[0m     \u001b[39melse\u001b[39;00m:\n\u001b[1;32m     24\u001b[0m         translit_chars\u001b[39m.\u001b[39mappend(tam_alphabet\u001b[39m.\u001b[39mindex_to_letter[pred_char_index])\n\u001b[0;32m---> 25\u001b[0m     input_dec \u001b[39m=\u001b[39m pred_char_index\u001b[39m.\u001b[39;49msqueeze()\u001b[39m.\u001b[39;49mdetach()\n\u001b[1;32m     26\u001b[0m     max_length \u001b[39m-\u001b[39m\u001b[39m=\u001b[39m \u001b[39m1\u001b[39m\n\u001b[1;32m     27\u001b[0m \u001b[39mif\u001b[39;00m \u001b[39m'\u001b[39m\u001b[39m'\u001b[39m\u001b[39m.\u001b[39mjoin(translit_chars) \u001b[39m==\u001b[39m val_data_target[chosen_index]\u001b[39m+\u001b[39m\u001b[39m'\u001b[39m\u001b[39mEOW\u001b[39m\u001b[39m'\u001b[39m:\n",
      "\u001b[0;31mKeyboardInterrupt\u001b[0m: "
     ]
    }
   ],
   "source": [
    "with torch.inference_mode():\n",
    "    acc = 0.0\n",
    "    for chosen_index in range(len(val_data_given)):\n",
    "        input_vector = word_to_tensor(eng_alphabet, val_data_given[chosen_index])\n",
    "        input_len = len(input_vector)\n",
    "        hidden_enc = encoder.initHidden().to(device)\n",
    "\n",
    "        for char in input_vector:\n",
    "            output_enc, hidden_enc = encoder(char.to(device), hidden_enc)\n",
    "\n",
    "        input_dec = torch.tensor([[0]])\n",
    "        hidden_dec = hidden_enc.to(device)\n",
    "\n",
    "        translit_chars = []\n",
    "\n",
    "        max_length = 100\n",
    "        while max_length > 0:\n",
    "            output_dec, hidden_dec = decoder(input_dec.to(device), hidden_dec)\n",
    "            pred_char_index = output_dec.data.argmax()\n",
    "            if pred_char_index.item() == 1:\n",
    "                translit_chars.append('EOW')\n",
    "                break\n",
    "            else:\n",
    "                translit_chars.append(tam_alphabet.index_to_letter[pred_char_index])\n",
    "            input_dec = pred_char_index.squeeze().detach()\n",
    "            max_length -= 1\n",
    "        if ''.join(translit_chars) == val_data_target[chosen_index]+'EOW':\n",
    "            acc += 1.\n",
    "    acc /= len(val_data_given)"
   ]
  },
  {
   "cell_type": "code",
   "execution_count": 50,
   "metadata": {},
   "outputs": [
    {
     "data": {
      "text/plain": [
       "0.0"
      ]
     },
     "execution_count": 50,
     "metadata": {},
     "output_type": "execute_result"
    }
   ],
   "source": [
    "acc"
   ]
  }
 ],
 "metadata": {
  "kernelspec": {
   "display_name": "Python 3",
   "language": "python",
   "name": "python3"
  },
  "language_info": {
   "codemirror_mode": {
    "name": "ipython",
    "version": 3
   },
   "file_extension": ".py",
   "mimetype": "text/x-python",
   "name": "python",
   "nbconvert_exporter": "python",
   "pygments_lexer": "ipython3",
   "version": "3.10.6"
  },
  "orig_nbformat": 4
 },
 "nbformat": 4,
 "nbformat_minor": 2
}
