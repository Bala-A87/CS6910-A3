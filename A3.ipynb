{
 "cells": [
  {
   "attachments": {},
   "cell_type": "markdown",
   "metadata": {},
   "source": [
    "## Loading data"
   ]
  },
  {
   "cell_type": "code",
   "execution_count": 17,
   "metadata": {},
   "outputs": [
    {
     "data": {
      "text/plain": [
       "(51200, 51200)"
      ]
     },
     "execution_count": 17,
     "metadata": {},
     "output_type": "execute_result"
    }
   ],
   "source": [
    "with open('data/aksharantar_sampled/tam/tam_train.csv') as f:\n",
    "    data_pairs = f.readlines()\n",
    "data_given = [pair.split(',')[0].strip().lower() for pair in data_pairs]\n",
    "data_target = [pair.split(',')[1].strip('\\n').strip() for pair in data_pairs]\n",
    "len(data_given), len(data_target)"
   ]
  },
  {
   "attachments": {},
   "cell_type": "markdown",
   "metadata": {},
   "source": [
    "## Building the alphabet"
   ]
  },
  {
   "cell_type": "code",
   "execution_count": 27,
   "metadata": {},
   "outputs": [],
   "source": [
    "class Alphabet():\n",
    "    def __init__(self) -> None:\n",
    "        self.letter_to_index = {}\n",
    "        self.index_to_letter = ['SOW', 'EOW', 'UNK']\n",
    "        self.letter_count = 3\n",
    "    \n",
    "    def addLetter(self, letter: str) -> None:\n",
    "        if letter not in self.letter_to_index:\n",
    "            self.letter_to_index[letter] = self.letter_count\n",
    "            self.index_to_letter.append(letter)\n",
    "            self.letter_count += 1"
   ]
  },
  {
   "cell_type": "code",
   "execution_count": 33,
   "metadata": {},
   "outputs": [
    {
     "name": "stdout",
     "output_type": "stream",
     "text": [
      "29 49\n"
     ]
    }
   ],
   "source": [
    "eng_alphabet, tam_alphabet = Alphabet(), Alphabet()\n",
    "for word in data_given:\n",
    "    for letter in word:\n",
    "        eng_alphabet.addLetter(letter)\n",
    "for word in data_target:\n",
    "    for letter in word:\n",
    "        tam_alphabet.addLetter(letter)\n",
    "print(eng_alphabet.letter_count, tam_alphabet.letter_count)"
   ]
  },
  {
   "attachments": {},
   "cell_type": "markdown",
   "metadata": {},
   "source": [
    "## Seq2Seq model"
   ]
  },
  {
   "cell_type": "code",
   "execution_count": 54,
   "metadata": {},
   "outputs": [],
   "source": [
    "import torch\n",
    "from torch import nn\n",
    "from torch.functional import F\n",
    "\n",
    "class Encoder(nn.Module):\n",
    "    def __init__(\n",
    "        self,\n",
    "        input_size: int,\n",
    "        hidden_size: int,\n",
    "        cell_type: nn.Module = nn.RNN,\n",
    "        num_layers: int = 1\n",
    "    ) -> None:\n",
    "        super().__init__()\n",
    "        self.embedding = nn.Embedding(num_embeddings=input_size, embedding_dim=hidden_size)\n",
    "        self.encoder = cell_type(input_size=hidden_size, hidden_size=hidden_size, num_layers=num_layers)\n",
    "    \n",
    "    def forward(self, x, hidden):\n",
    "        output = self.embedding(x).reshape(1, 1, -1) \n",
    "        output, hidden = self.encoder(output, hidden)\n",
    "        return output, hidden\n",
    " "
   ]
  },
  {
   "cell_type": "code",
   "execution_count": 55,
   "metadata": {},
   "outputs": [],
   "source": [
    "class Decoder(nn.Module):\n",
    "    def __init__(\n",
    "        self,\n",
    "        hidden_size: int,\n",
    "        output_size: int,\n",
    "        cell_type: nn.Module = nn.RNN,\n",
    "        num_layers: int = 1\n",
    "    ) -> None:\n",
    "        super().__init__()\n",
    "        self.embedding = nn.Embedding(num_embeddings=output_size, embedding_dim=hidden_size)\n",
    "        self.decoder = cell_type(input_size=hidden_size, hidden_size=hidden_size, num_layers=num_layers)\n",
    "        self.out = nn.Linear(in_features=hidden_size, out_features=output_size)\n",
    "        self.softmax = nn.LogSoftmax(dim=1)\n",
    "    \n",
    "    def forward(self, x, hidden):\n",
    "        output = self.embedding(x).reshape(1, 1, -1)\n",
    "        output = F.relu(output)\n",
    "        output, hidden = self.decoder(output, hidden)\n",
    "        output = self.softmax(self.out(output[0]))\n",
    "        return output, hidden\n"
   ]
  },
  {
   "cell_type": "code",
   "execution_count": null,
   "metadata": {},
   "outputs": [],
   "source": []
  }
 ],
 "metadata": {
  "kernelspec": {
   "display_name": "Python 3",
   "language": "python",
   "name": "python3"
  },
  "language_info": {
   "codemirror_mode": {
    "name": "ipython",
    "version": 3
   },
   "file_extension": ".py",
   "mimetype": "text/x-python",
   "name": "python",
   "nbconvert_exporter": "python",
   "pygments_lexer": "ipython3",
   "version": "3.10.6"
  },
  "orig_nbformat": 4
 },
 "nbformat": 4,
 "nbformat_minor": 2
}
