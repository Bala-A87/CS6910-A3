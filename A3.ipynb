{
 "cells": [
  {
   "attachments": {},
   "cell_type": "markdown",
   "metadata": {},
   "source": [
    "## Loading data"
   ]
  },
  {
   "cell_type": "code",
   "execution_count": 1,
   "metadata": {},
   "outputs": [
    {
     "data": {
      "text/plain": [
       "(51200, 51200)"
      ]
     },
     "execution_count": 1,
     "metadata": {},
     "output_type": "execute_result"
    }
   ],
   "source": [
    "with open('data/aksharantar_sampled/tam/tam_train.csv') as f:\n",
    "    data_pairs = f.readlines()\n",
    "data_given = [pair.split(',')[0].strip().lower() for pair in data_pairs]\n",
    "data_target = [pair.split(',')[1].strip('\\n').strip() for pair in data_pairs]\n",
    "len(data_given), len(data_target)"
   ]
  },
  {
   "attachments": {},
   "cell_type": "markdown",
   "metadata": {},
   "source": [
    "## Building the alphabet"
   ]
  },
  {
   "cell_type": "code",
   "execution_count": 2,
   "metadata": {},
   "outputs": [],
   "source": [
    "class Alphabet():\n",
    "    def __init__(self) -> None:\n",
    "        self.letter_to_index = {}\n",
    "        self.index_to_letter = ['SOW', 'EOW', 'UNK']\n",
    "        self.letter_count = 3\n",
    "    \n",
    "    def addLetter(self, letter: str) -> None:\n",
    "        if letter not in self.letter_to_index:\n",
    "            self.letter_to_index[letter] = self.letter_count\n",
    "            self.index_to_letter.append(letter)\n",
    "            self.letter_count += 1"
   ]
  },
  {
   "cell_type": "code",
   "execution_count": 3,
   "metadata": {},
   "outputs": [
    {
     "name": "stdout",
     "output_type": "stream",
     "text": [
      "29 49\n"
     ]
    }
   ],
   "source": [
    "eng_alphabet, tam_alphabet = Alphabet(), Alphabet()\n",
    "for word in data_given:\n",
    "    for letter in word:\n",
    "        eng_alphabet.addLetter(letter)\n",
    "for word in data_target:\n",
    "    for letter in word:\n",
    "        tam_alphabet.addLetter(letter)\n",
    "print(eng_alphabet.letter_count, tam_alphabet.letter_count)"
   ]
  },
  {
   "attachments": {},
   "cell_type": "markdown",
   "metadata": {},
   "source": [
    "## Seq2Seq model"
   ]
  },
  {
   "cell_type": "code",
   "execution_count": 4,
   "metadata": {},
   "outputs": [],
   "source": [
    "import torch\n",
    "from torch import nn\n",
    "from torch.functional import F\n",
    "\n",
    "class Encoder(nn.Module):\n",
    "    def __init__(\n",
    "        self,\n",
    "        embedding_size: int,\n",
    "        input_size: int,\n",
    "        hidden_size: int,\n",
    "        cell_type: nn.Module = nn.RNN, # type: ignore\n",
    "        num_layers: int = 1\n",
    "    ) -> None:\n",
    "        super().__init__()\n",
    "        self.hidden_size = hidden_size\n",
    "        self.num_layers = num_layers\n",
    "        self.is_lstm = (cell_type == nn.LSTM)\n",
    "        self.embedding = nn.Embedding(num_embeddings=input_size, embedding_dim=embedding_size)\n",
    "        self.encoder = cell_type(input_size=embedding_size, hidden_size=hidden_size, num_layers=num_layers) \n",
    "    \n",
    "    def forward(self, x, hidden):\n",
    "        output = self.embedding(x).reshape(1, 1, -1) \n",
    "        output, hidden = self.encoder(output, hidden)\n",
    "        return output, hidden\n",
    " \n",
    "    def initHidden(self):\n",
    "        return torch.zeros(self.num_layers, 1, self.hidden_size)"
   ]
  },
  {
   "cell_type": "code",
   "execution_count": 5,
   "metadata": {},
   "outputs": [],
   "source": [
    "class Decoder(nn.Module):\n",
    "    def __init__(\n",
    "        self,\n",
    "        embedding_size: int,\n",
    "        hidden_size: int,\n",
    "        output_size: int,\n",
    "        cell_type: nn.Module = nn.RNN,\n",
    "        num_layers: int = 1\n",
    "    ) -> None:\n",
    "        super().__init__()\n",
    "        self.hidden_size = hidden_size\n",
    "        self.num_layers = num_layers\n",
    "        self.is_lstm = (cell_type == nn.LSTM)\n",
    "        self.embedding = nn.Embedding(num_embeddings=output_size, embedding_dim=embedding_size)\n",
    "        self.decoder = cell_type(input_size=embedding_size, hidden_size=hidden_size, num_layers=num_layers) \n",
    "        self.out = nn.Linear(in_features=hidden_size, out_features=output_size)\n",
    "        self.softmax = nn.LogSoftmax(dim=1)\n",
    "    \n",
    "    def forward(self, x, hidden):\n",
    "        output = self.embedding(x).reshape(1, 1, -1)\n",
    "        output = F.relu(output)\n",
    "        output, hidden = self.decoder(output, hidden)\n",
    "        output = self.softmax(self.out(output[0]))\n",
    "        return output, hidden\n",
    "\n",
    "    def initHidden(self):\n",
    "        return torch.zeros(self.num_layers, 1, self.hidden_size)\n"
   ]
  },
  {
   "cell_type": "code",
   "execution_count": 6,
   "metadata": {},
   "outputs": [],
   "source": [
    "class AttnDecoder(nn.Module):\n",
    "    def __init__(\n",
    "        self,\n",
    "        embedding_size: int,\n",
    "        hidden_size: int,\n",
    "        output_size: int,\n",
    "        cell_type: nn.Module = nn.RNN,\n",
    "        num_layers: int = 1\n",
    "    ) -> None:\n",
    "        super().__init__()\n",
    "        self.hidden_size = hidden_size\n",
    "        self.num_layers = num_layers\n",
    "        self.embedding = nn.Embedding(num_embeddings=output_size, embedding_dim=embedding_size)\n",
    "        self.attn = nn.Linear(hidden_size+embedding_size, 100)\n",
    "        self.attn_combine = nn.Linear(hidden_size+embedding_size, self.hidden_size)\n",
    "        self.decoder = cell_type(input_size=hidden_size, hidden_size=hidden_size, num_layers=num_layers)\n",
    "        self.is_lstm = cell_type == nn.LSTM\n",
    "        self.out = nn.Linear(in_features=hidden_size, out_features=output_size)\n",
    "    \n",
    "    def forward(self, x, hidden, output_enc):\n",
    "        embedded = self.embedding(x).reshape(1, 1, -1)\n",
    "\n",
    "        if self.is_lstm:\n",
    "            attn_wts = F.softmax(self.attn(torch.cat([embedded[0], hidden[0][0]], 1)), dim=1)\n",
    "        else:\n",
    "            attn_wts = F.softmax(self.attn(torch.cat([embedded[0], hidden[0]], 1)), dim=1)\n",
    "        attn_applied = torch.bmm(attn_wts.unsqueeze(0), output_enc.unsqueeze(0))\n",
    "\n",
    "        output = torch.cat([embedded[0], attn_applied[0]], 1)\n",
    "        output = self.attn_combine(output).unsqueeze(0)\n",
    "\n",
    "        output = F.relu(output)\n",
    "        output, hidden = self.decoder(output, hidden)\n",
    "\n",
    "        output = F.log_softmax(self.out(output[0]), dim=1)\n",
    "        return output, hidden, attn_wts\n",
    "    \n",
    "    def initHidden(self):\n",
    "        return torch.zeros(self.num_layers, 1, self.hidden_size)\n"
   ]
  },
  {
   "attachments": {},
   "cell_type": "markdown",
   "metadata": {},
   "source": [
    "## Training"
   ]
  },
  {
   "cell_type": "code",
   "execution_count": 7,
   "metadata": {},
   "outputs": [
    {
     "data": {
      "text/plain": [
       "'cpu'"
      ]
     },
     "execution_count": 7,
     "metadata": {},
     "output_type": "execute_result"
    }
   ],
   "source": [
    "# device = 'cuda' if torch.cuda.is_available() else 'cpu'\n",
    "device = 'cpu'\n",
    "device"
   ]
  },
  {
   "cell_type": "code",
   "execution_count": 8,
   "metadata": {},
   "outputs": [],
   "source": [
    "def word_to_tensor(alphabet: Alphabet, word: str) -> torch.Tensor:\n",
    "    chars = list(alphabet.letter_to_index[letter] for letter in word) + [1]\n",
    "    return torch.tensor(chars, dtype=torch.long).reshape(-1, 1)"
   ]
  },
  {
   "cell_type": "code",
   "execution_count": 11,
   "metadata": {},
   "outputs": [],
   "source": [
    "encoder = Encoder(8, eng_alphabet.letter_count, 128, cell_type=nn.LSTM, num_layers=3).to(device)\n",
    "# decoder = Decoder(64, tam_alphabet.letter_count, num_layers=2, cell_type=nn.LSTM).to(device)\n",
    "decoder = AttnDecoder(8, 128, tam_alphabet.letter_count, cell_type=nn.LSTM, num_layers=3)\n",
    "optimizer_enc = torch.optim.Adam(encoder.parameters(), lr=1e-3)\n",
    "optimizer_dec = torch.optim.Adam(decoder.parameters(), lr=1e-3)\n",
    "loss_fn = torch.nn.NLLLoss()"
   ]
  },
  {
   "cell_type": "code",
   "execution_count": 12,
   "metadata": {},
   "outputs": [
    {
     "name": "stdout",
     "output_type": "stream",
     "text": [
      "Epoch 1/10\n",
      "[Batch 1000/51200] ==> 2.815807342529297, 0.0\n"
     ]
    },
    {
     "ename": "KeyboardInterrupt",
     "evalue": "",
     "output_type": "error",
     "traceback": [
      "\u001b[0;31m---------------------------------------------------------------------------\u001b[0m",
      "\u001b[0;31mKeyboardInterrupt\u001b[0m                         Traceback (most recent call last)",
      "Cell \u001b[0;32mIn[12], line 67\u001b[0m\n\u001b[1;32m     64\u001b[0m     avg_score \u001b[39m+\u001b[39m\u001b[39m=\u001b[39m \u001b[39m1.\u001b[39m\n\u001b[1;32m     66\u001b[0m optimizer_enc\u001b[39m.\u001b[39mstep()\n\u001b[0;32m---> 67\u001b[0m optimizer_dec\u001b[39m.\u001b[39;49mstep()\n\u001b[1;32m     69\u001b[0m \u001b[39mif\u001b[39;00m (train_index\u001b[39m+\u001b[39m\u001b[39m1\u001b[39m) \u001b[39m%\u001b[39m \u001b[39m1000\u001b[39m \u001b[39m==\u001b[39m \u001b[39m0\u001b[39m:\n\u001b[1;32m     70\u001b[0m     avg_loss \u001b[39m/\u001b[39m\u001b[39m=\u001b[39m \u001b[39m1000\u001b[39m\n",
      "File \u001b[0;32m~/.local/lib/python3.10/site-packages/torch/optim/optimizer.py:140\u001b[0m, in \u001b[0;36mOptimizer._hook_for_profile.<locals>.profile_hook_step.<locals>.wrapper\u001b[0;34m(*args, **kwargs)\u001b[0m\n\u001b[1;32m    138\u001b[0m profile_name \u001b[39m=\u001b[39m \u001b[39m\"\u001b[39m\u001b[39mOptimizer.step#\u001b[39m\u001b[39m{}\u001b[39;00m\u001b[39m.step\u001b[39m\u001b[39m\"\u001b[39m\u001b[39m.\u001b[39mformat(obj\u001b[39m.\u001b[39m\u001b[39m__class__\u001b[39m\u001b[39m.\u001b[39m\u001b[39m__name__\u001b[39m)\n\u001b[1;32m    139\u001b[0m \u001b[39mwith\u001b[39;00m torch\u001b[39m.\u001b[39mautograd\u001b[39m.\u001b[39mprofiler\u001b[39m.\u001b[39mrecord_function(profile_name):\n\u001b[0;32m--> 140\u001b[0m     out \u001b[39m=\u001b[39m func(\u001b[39m*\u001b[39;49margs, \u001b[39m*\u001b[39;49m\u001b[39m*\u001b[39;49mkwargs)\n\u001b[1;32m    141\u001b[0m     obj\u001b[39m.\u001b[39m_optimizer_step_code()\n\u001b[1;32m    142\u001b[0m     \u001b[39mreturn\u001b[39;00m out\n",
      "File \u001b[0;32m~/.local/lib/python3.10/site-packages/torch/optim/optimizer.py:23\u001b[0m, in \u001b[0;36m_use_grad_for_differentiable.<locals>._use_grad\u001b[0;34m(self, *args, **kwargs)\u001b[0m\n\u001b[1;32m     21\u001b[0m \u001b[39mtry\u001b[39;00m:\n\u001b[1;32m     22\u001b[0m     torch\u001b[39m.\u001b[39mset_grad_enabled(\u001b[39mself\u001b[39m\u001b[39m.\u001b[39mdefaults[\u001b[39m'\u001b[39m\u001b[39mdifferentiable\u001b[39m\u001b[39m'\u001b[39m])\n\u001b[0;32m---> 23\u001b[0m     ret \u001b[39m=\u001b[39m func(\u001b[39mself\u001b[39;49m, \u001b[39m*\u001b[39;49margs, \u001b[39m*\u001b[39;49m\u001b[39m*\u001b[39;49mkwargs)\n\u001b[1;32m     24\u001b[0m \u001b[39mfinally\u001b[39;00m:\n\u001b[1;32m     25\u001b[0m     torch\u001b[39m.\u001b[39mset_grad_enabled(prev_grad)\n",
      "File \u001b[0;32m~/.local/lib/python3.10/site-packages/torch/optim/adam.py:234\u001b[0m, in \u001b[0;36mAdam.step\u001b[0;34m(self, closure, grad_scaler)\u001b[0m\n\u001b[1;32m    231\u001b[0m                 \u001b[39mraise\u001b[39;00m \u001b[39mRuntimeError\u001b[39;00m(\u001b[39m'\u001b[39m\u001b[39m`requires_grad` is not supported for `step` in differentiable mode\u001b[39m\u001b[39m'\u001b[39m)\n\u001b[1;32m    232\u001b[0m             state_steps\u001b[39m.\u001b[39mappend(state[\u001b[39m'\u001b[39m\u001b[39mstep\u001b[39m\u001b[39m'\u001b[39m])\n\u001b[0;32m--> 234\u001b[0m     adam(params_with_grad,\n\u001b[1;32m    235\u001b[0m          grads,\n\u001b[1;32m    236\u001b[0m          exp_avgs,\n\u001b[1;32m    237\u001b[0m          exp_avg_sqs,\n\u001b[1;32m    238\u001b[0m          max_exp_avg_sqs,\n\u001b[1;32m    239\u001b[0m          state_steps,\n\u001b[1;32m    240\u001b[0m          amsgrad\u001b[39m=\u001b[39;49mgroup[\u001b[39m'\u001b[39;49m\u001b[39mamsgrad\u001b[39;49m\u001b[39m'\u001b[39;49m],\n\u001b[1;32m    241\u001b[0m          beta1\u001b[39m=\u001b[39;49mbeta1,\n\u001b[1;32m    242\u001b[0m          beta2\u001b[39m=\u001b[39;49mbeta2,\n\u001b[1;32m    243\u001b[0m          lr\u001b[39m=\u001b[39;49mgroup[\u001b[39m'\u001b[39;49m\u001b[39mlr\u001b[39;49m\u001b[39m'\u001b[39;49m],\n\u001b[1;32m    244\u001b[0m          weight_decay\u001b[39m=\u001b[39;49mgroup[\u001b[39m'\u001b[39;49m\u001b[39mweight_decay\u001b[39;49m\u001b[39m'\u001b[39;49m],\n\u001b[1;32m    245\u001b[0m          eps\u001b[39m=\u001b[39;49mgroup[\u001b[39m'\u001b[39;49m\u001b[39meps\u001b[39;49m\u001b[39m'\u001b[39;49m],\n\u001b[1;32m    246\u001b[0m          maximize\u001b[39m=\u001b[39;49mgroup[\u001b[39m'\u001b[39;49m\u001b[39mmaximize\u001b[39;49m\u001b[39m'\u001b[39;49m],\n\u001b[1;32m    247\u001b[0m          foreach\u001b[39m=\u001b[39;49mgroup[\u001b[39m'\u001b[39;49m\u001b[39mforeach\u001b[39;49m\u001b[39m'\u001b[39;49m],\n\u001b[1;32m    248\u001b[0m          capturable\u001b[39m=\u001b[39;49mgroup[\u001b[39m'\u001b[39;49m\u001b[39mcapturable\u001b[39;49m\u001b[39m'\u001b[39;49m],\n\u001b[1;32m    249\u001b[0m          differentiable\u001b[39m=\u001b[39;49mgroup[\u001b[39m'\u001b[39;49m\u001b[39mdifferentiable\u001b[39;49m\u001b[39m'\u001b[39;49m],\n\u001b[1;32m    250\u001b[0m          fused\u001b[39m=\u001b[39;49mgroup[\u001b[39m'\u001b[39;49m\u001b[39mfused\u001b[39;49m\u001b[39m'\u001b[39;49m],\n\u001b[1;32m    251\u001b[0m          grad_scale\u001b[39m=\u001b[39;49mgrad_scale,\n\u001b[1;32m    252\u001b[0m          found_inf\u001b[39m=\u001b[39;49mfound_inf)\n\u001b[1;32m    254\u001b[0m \u001b[39mreturn\u001b[39;00m loss\n",
      "File \u001b[0;32m~/.local/lib/python3.10/site-packages/torch/optim/adam.py:300\u001b[0m, in \u001b[0;36madam\u001b[0;34m(params, grads, exp_avgs, exp_avg_sqs, max_exp_avg_sqs, state_steps, foreach, capturable, differentiable, fused, grad_scale, found_inf, amsgrad, beta1, beta2, lr, weight_decay, eps, maximize)\u001b[0m\n\u001b[1;32m    297\u001b[0m \u001b[39melse\u001b[39;00m:\n\u001b[1;32m    298\u001b[0m     func \u001b[39m=\u001b[39m _single_tensor_adam\n\u001b[0;32m--> 300\u001b[0m func(params,\n\u001b[1;32m    301\u001b[0m      grads,\n\u001b[1;32m    302\u001b[0m      exp_avgs,\n\u001b[1;32m    303\u001b[0m      exp_avg_sqs,\n\u001b[1;32m    304\u001b[0m      max_exp_avg_sqs,\n\u001b[1;32m    305\u001b[0m      state_steps,\n\u001b[1;32m    306\u001b[0m      amsgrad\u001b[39m=\u001b[39;49mamsgrad,\n\u001b[1;32m    307\u001b[0m      beta1\u001b[39m=\u001b[39;49mbeta1,\n\u001b[1;32m    308\u001b[0m      beta2\u001b[39m=\u001b[39;49mbeta2,\n\u001b[1;32m    309\u001b[0m      lr\u001b[39m=\u001b[39;49mlr,\n\u001b[1;32m    310\u001b[0m      weight_decay\u001b[39m=\u001b[39;49mweight_decay,\n\u001b[1;32m    311\u001b[0m      eps\u001b[39m=\u001b[39;49meps,\n\u001b[1;32m    312\u001b[0m      maximize\u001b[39m=\u001b[39;49mmaximize,\n\u001b[1;32m    313\u001b[0m      capturable\u001b[39m=\u001b[39;49mcapturable,\n\u001b[1;32m    314\u001b[0m      differentiable\u001b[39m=\u001b[39;49mdifferentiable,\n\u001b[1;32m    315\u001b[0m      grad_scale\u001b[39m=\u001b[39;49mgrad_scale,\n\u001b[1;32m    316\u001b[0m      found_inf\u001b[39m=\u001b[39;49mfound_inf)\n",
      "File \u001b[0;32m~/.local/lib/python3.10/site-packages/torch/optim/adam.py:410\u001b[0m, in \u001b[0;36m_single_tensor_adam\u001b[0;34m(params, grads, exp_avgs, exp_avg_sqs, max_exp_avg_sqs, state_steps, grad_scale, found_inf, amsgrad, beta1, beta2, lr, weight_decay, eps, maximize, capturable, differentiable)\u001b[0m\n\u001b[1;32m    408\u001b[0m     denom \u001b[39m=\u001b[39m (max_exp_avg_sqs[i]\u001b[39m.\u001b[39msqrt() \u001b[39m/\u001b[39m bias_correction2_sqrt)\u001b[39m.\u001b[39madd_(eps)\n\u001b[1;32m    409\u001b[0m \u001b[39melse\u001b[39;00m:\n\u001b[0;32m--> 410\u001b[0m     denom \u001b[39m=\u001b[39m (exp_avg_sq\u001b[39m.\u001b[39;49msqrt() \u001b[39m/\u001b[39m bias_correction2_sqrt)\u001b[39m.\u001b[39madd_(eps)\n\u001b[1;32m    412\u001b[0m param\u001b[39m.\u001b[39maddcdiv_(exp_avg, denom, value\u001b[39m=\u001b[39m\u001b[39m-\u001b[39mstep_size)\n",
      "\u001b[0;31mKeyboardInterrupt\u001b[0m: "
     ]
    }
   ],
   "source": [
    "teacher_forcing_ratio = 0.5\n",
    "\n",
    "for epoch in range(10):\n",
    "    print(f'Epoch {epoch+1}/10')\n",
    "    avg_loss, avg_score = 0.0, 0.0\n",
    "    for train_index in range(len(data_given)):\n",
    "    # for train_index in range(1000):\n",
    "        hidden_enc = encoder.initHidden().to(device)\n",
    "        cell_enc = encoder.initHidden().to(device)\n",
    "\n",
    "        optimizer_enc.zero_grad()\n",
    "        optimizer_dec.zero_grad()\n",
    "\n",
    "        input_vector = word_to_tensor(eng_alphabet, data_given[train_index]).to(device)\n",
    "        input_len = len(input_vector)\n",
    "\n",
    "        outputs_enc = torch.zeros(100, encoder.hidden_size)\n",
    "\n",
    "        loss = 0.0\n",
    "\n",
    "        for i, char in enumerate(input_vector):\n",
    "            if encoder.is_lstm:\n",
    "                output_enc, (hidden_enc, cell_enc) = encoder(char, (hidden_enc, cell_enc))\n",
    "            else:\n",
    "                output_enc, hidden_enc = encoder(char, hidden_enc)\n",
    "            outputs_enc[i] = output_enc[0, 0]\n",
    "        \n",
    "        input_dec = torch.tensor([[0]]).to(device)\n",
    "        target_vector = word_to_tensor(tam_alphabet, data_target[train_index]).to(device)\n",
    "        target_len = len(target_vector)\n",
    "\n",
    "        if decoder.is_lstm:\n",
    "            cell_dec = torch.cat([cell_enc[-1].reshape(1, 1, -1)]*decoder.num_layers).to(device)\n",
    "        hidden_dec = torch.cat([hidden_enc[-1].reshape(1, 1, -1)]*decoder.num_layers).to(device)\n",
    "\n",
    "        use_teacher_forcing = True if torch.rand(1) < teacher_forcing_ratio else False\n",
    "        prediction = ''\n",
    "\n",
    "        if use_teacher_forcing:\n",
    "            for di in range(target_len):\n",
    "                if decoder.is_lstm:\n",
    "                    output_dec, (hidden_dec, cell_dec), attn = decoder(input_dec, (hidden_dec, cell_dec), outputs_enc)\n",
    "                else:\n",
    "                    output_dec, hidden_dec, attn = decoder(input_dec, hidden_dec, outputs_enc)\n",
    "                loss += loss_fn(output_dec, target_vector[di])\n",
    "                input_dec = target_vector[di]\n",
    "                prediction += tam_alphabet.index_to_letter[output_dec.argmax(dim=1).squeeze().detach()]\n",
    "        else:\n",
    "            for di in range(target_len):\n",
    "                if decoder.is_lstm:\n",
    "                    output_dec, (hidden_dec, cell_dec), attn = decoder(input_dec, (hidden_dec, cell_dec), outputs_enc)\n",
    "                else:\n",
    "                    output_dec, hidden_dec, attn = decoder(input_dec, hidden_dec, outputs_enc)\n",
    "                input_dec = output_dec.argmax(dim=1).squeeze().detach()\n",
    "                loss += loss_fn(output_dec, target_vector[di])\n",
    "                prediction += tam_alphabet.index_to_letter[input_dec.squeeze()]\n",
    "                if input_dec.item() == 1:\n",
    "                    break\n",
    "        \n",
    "        loss.backward()\n",
    "        avg_loss += loss.detach() / target_len\n",
    "\n",
    "        if prediction == data_target[train_index]+'EOW':\n",
    "            avg_score += 1.\n",
    "\n",
    "        optimizer_enc.step()\n",
    "        optimizer_dec.step()\n",
    "\n",
    "        if (train_index+1) % 1000 == 0:\n",
    "            avg_loss /= 1000\n",
    "            avg_score /= 1000\n",
    "            print(f'[Batch {train_index+1}/{len(data_given)}] ==> {avg_loss}, {avg_score}')\n",
    "            avg_loss = 0."
   ]
  },
  {
   "cell_type": "code",
   "execution_count": 28,
   "metadata": {},
   "outputs": [],
   "source": [
    "chosen_index = 0\n",
    "\n",
    "with torch.inference_mode():\n",
    "    input_vector = word_to_tensor(eng_alphabet, data_given[chosen_index])\n",
    "    input_len = len(input_vector)\n",
    "    hidden_enc = encoder.initHidden().to(device)\n",
    "\n",
    "    for char in input_vector:\n",
    "        output_enc, hidden_enc = encoder(char.to(device), hidden_enc)\n",
    "\n",
    "    input_dec = torch.tensor([[0]])\n",
    "    hidden_dec = hidden_enc.to(device)\n",
    "\n",
    "    translit_chars = []\n",
    "\n",
    "    max_length = 100\n",
    "    while max_length > 0:\n",
    "        output_dec, hidden_dec = decoder(input_dec.to(device), hidden_dec)\n",
    "        pred_char_index = output_dec.data.argmax()\n",
    "        if pred_char_index.item() == 1:\n",
    "            translit_chars.append('EOW')\n",
    "            break\n",
    "        else:\n",
    "            translit_chars.append(tam_alphabet.index_to_letter[pred_char_index])\n",
    "        input_dec = pred_char_index.squeeze().detach()\n",
    "        max_length -= 1"
   ]
  },
  {
   "cell_type": "code",
   "execution_count": 29,
   "metadata": {},
   "outputs": [
    {
     "data": {
      "text/plain": [
       "('தொட்டர்யார', 'தொட்டாச்சார்ய', 'thottacharya')"
      ]
     },
     "execution_count": 29,
     "metadata": {},
     "output_type": "execute_result"
    }
   ],
   "source": [
    "''.join(translit_chars[:-1]), data_target[chosen_index], data_given[chosen_index]"
   ]
  },
  {
   "cell_type": "code",
   "execution_count": 39,
   "metadata": {},
   "outputs": [],
   "source": [
    "torch.cuda.empty_cache()"
   ]
  },
  {
   "cell_type": "code",
   "execution_count": 30,
   "metadata": {},
   "outputs": [
    {
     "data": {
      "text/plain": [
       "(4096, 4096)"
      ]
     },
     "execution_count": 30,
     "metadata": {},
     "output_type": "execute_result"
    }
   ],
   "source": [
    "with open('data/aksharantar_sampled/tam/tam_valid.csv') as f:\n",
    "    val_data_pairs = f.readlines()\n",
    "val_data_given = [pair.split(',')[0].strip().lower() for pair in val_data_pairs]\n",
    "val_data_target = [pair.split(',')[1].strip('\\n').strip() for pair in val_data_pairs]\n",
    "len(val_data_given), len(val_data_target)"
   ]
  },
  {
   "cell_type": "code",
   "execution_count": 49,
   "metadata": {},
   "outputs": [
    {
     "ename": "KeyboardInterrupt",
     "evalue": "",
     "output_type": "error",
     "traceback": [
      "\u001b[0;31m---------------------------------------------------------------------------\u001b[0m",
      "\u001b[0;31mKeyboardInterrupt\u001b[0m                         Traceback (most recent call last)",
      "Cell \u001b[0;32mIn[49], line 25\u001b[0m\n\u001b[1;32m     23\u001b[0m     \u001b[39melse\u001b[39;00m:\n\u001b[1;32m     24\u001b[0m         translit_chars\u001b[39m.\u001b[39mappend(tam_alphabet\u001b[39m.\u001b[39mindex_to_letter[pred_char_index])\n\u001b[0;32m---> 25\u001b[0m     input_dec \u001b[39m=\u001b[39m pred_char_index\u001b[39m.\u001b[39;49msqueeze()\u001b[39m.\u001b[39;49mdetach()\n\u001b[1;32m     26\u001b[0m     max_length \u001b[39m-\u001b[39m\u001b[39m=\u001b[39m \u001b[39m1\u001b[39m\n\u001b[1;32m     27\u001b[0m \u001b[39mif\u001b[39;00m \u001b[39m'\u001b[39m\u001b[39m'\u001b[39m\u001b[39m.\u001b[39mjoin(translit_chars) \u001b[39m==\u001b[39m val_data_target[chosen_index]\u001b[39m+\u001b[39m\u001b[39m'\u001b[39m\u001b[39mEOW\u001b[39m\u001b[39m'\u001b[39m:\n",
      "\u001b[0;31mKeyboardInterrupt\u001b[0m: "
     ]
    }
   ],
   "source": [
    "with torch.inference_mode():\n",
    "    acc = 0.0\n",
    "    for chosen_index in range(len(val_data_given)):\n",
    "        input_vector = word_to_tensor(eng_alphabet, val_data_given[chosen_index])\n",
    "        input_len = len(input_vector)\n",
    "        hidden_enc = encoder.initHidden().to(device)\n",
    "\n",
    "        for char in input_vector:\n",
    "            output_enc, hidden_enc = encoder(char.to(device), hidden_enc)\n",
    "\n",
    "        input_dec = torch.tensor([[0]])\n",
    "        hidden_dec = hidden_enc.to(device)\n",
    "\n",
    "        translit_chars = []\n",
    "\n",
    "        max_length = 100\n",
    "        while max_length > 0:\n",
    "            output_dec, hidden_dec = decoder(input_dec.to(device), hidden_dec)\n",
    "            pred_char_index = output_dec.data.argmax()\n",
    "            if pred_char_index.item() == 1:\n",
    "                translit_chars.append('EOW')\n",
    "                break\n",
    "            else:\n",
    "                translit_chars.append(tam_alphabet.index_to_letter[pred_char_index])\n",
    "            input_dec = pred_char_index.squeeze().detach()\n",
    "            max_length -= 1\n",
    "        if ''.join(translit_chars) == val_data_target[chosen_index]+'EOW':\n",
    "            acc += 1.\n",
    "    acc /= len(val_data_given)"
   ]
  },
  {
   "cell_type": "code",
   "execution_count": 50,
   "metadata": {},
   "outputs": [
    {
     "data": {
      "text/plain": [
       "0.0"
      ]
     },
     "execution_count": 50,
     "metadata": {},
     "output_type": "execute_result"
    }
   ],
   "source": [
    "acc"
   ]
  },
  {
   "attachments": {},
   "cell_type": "markdown",
   "metadata": {},
   "source": [
    "## Attention heatmaps"
   ]
  },
  {
   "cell_type": "code",
   "execution_count": 189,
   "metadata": {},
   "outputs": [],
   "source": [
    "from data import get_data, make_alphabet\n",
    "from seq2seq import Encoder, AttnDecoder\n",
    "from learn import predict\n",
    "import wandb"
   ]
  },
  {
   "cell_type": "code",
   "execution_count": 10,
   "metadata": {},
   "outputs": [],
   "source": [
    "train_eng, train_tam = get_data()\n",
    "test_eng, test_tam = get_data(split='test')\n",
    "eng_alphabet = make_alphabet(train_eng)\n",
    "tam_alphabet = make_alphabet(train_tam)"
   ]
  },
  {
   "cell_type": "code",
   "execution_count": 17,
   "metadata": {},
   "outputs": [
    {
     "data": {
      "text/plain": [
       "'cuda'"
      ]
     },
     "execution_count": 17,
     "metadata": {},
     "output_type": "execute_result"
    }
   ],
   "source": [
    "import torch\n",
    "\n",
    "device = 'cuda' if torch.cuda.is_available() else 'cpu'\n",
    "device"
   ]
  },
  {
   "cell_type": "code",
   "execution_count": 22,
   "metadata": {},
   "outputs": [],
   "source": [
    "encoder = Encoder(eng_alphabet.letter_count, 16, 64, torch.nn.LSTM, 1, 0.1).to(device)\n",
    "decoder = AttnDecoder(64, 16, tam_alphabet.letter_count, torch.nn.LSTM, 2, 0.1).to(device)"
   ]
  },
  {
   "cell_type": "code",
   "execution_count": 23,
   "metadata": {},
   "outputs": [
    {
     "data": {
      "text/plain": [
       "<All keys matched successfully>"
      ]
     },
     "execution_count": 23,
     "metadata": {},
     "output_type": "execute_result"
    }
   ],
   "source": [
    "encoder.load_state_dict(torch.load('./models/attn_lstm_embed16_hidden64_1layerenc_2layerdec_dropout0.1_wd0.0/encoder.pth'))\n",
    "decoder.load_state_dict(torch.load('./models/attn_lstm_embed16_hidden64_1layerenc_2layerdec_dropout0.1_wd0.0/decoder.pth'))"
   ]
  },
  {
   "cell_type": "code",
   "execution_count": 105,
   "metadata": {},
   "outputs": [],
   "source": [
    "tam_to_eng_translit = [\n",
    "    'start', 'end', 'unk', 'th', 'oh (side)',\n",
    "    't', 'dot', 'aa (extra)', 'ch', 'r (small)',\n",
    "    'y', 'm', 'eh (side)', 'n (2)', 'eye (side)',\n",
    "    'a (main)', 'v', 'r (big)', 'i (side)', 'u (side)',\n",
    "    'aa (main)', 'n (3)', 'k', 'l (big)', 'l (small)',\n",
    "    'zh', 'oh (main)', 'n (small)', 'aye (side)', 'p',\n",
    "    'ooh (side)', 'ee (side)', 'ohh (side)', 'j', 'eh (main)',\n",
    "    'i (main)', 'h', 'ng', 'u (main)', 'sh',\n",
    "    'aye (main)', 'gn', 'ck', 's', 'ee (main)',\n",
    "    'ohh (main)', 'ow (side)', 'ooh (main)', 'eye (main)'\n",
    "]"
   ]
  },
  {
   "cell_type": "code",
   "execution_count": 243,
   "metadata": {},
   "outputs": [],
   "source": [
    "test_char = 3555"
   ]
  },
  {
   "cell_type": "code",
   "execution_count": 244,
   "metadata": {},
   "outputs": [],
   "source": [
    "preds, attns = predict(\n",
    "    encoder,\n",
    "    decoder,\n",
    "    [test_eng[test_char]],\n",
    "    (eng_alphabet, tam_alphabet),\n",
    "    device=device\n",
    ")"
   ]
  },
  {
   "cell_type": "code",
   "execution_count": 245,
   "metadata": {},
   "outputs": [
    {
     "data": {
      "text/plain": [
       "['பூகிEOW']"
      ]
     },
     "execution_count": 245,
     "metadata": {},
     "output_type": "execute_result"
    }
   ],
   "source": [
    "preds"
   ]
  },
  {
   "cell_type": "code",
   "execution_count": 246,
   "metadata": {},
   "outputs": [],
   "source": [
    "word_attns = torch.cat(attns[0])[:len(preds[0])-3, :len(test_eng[test_char])]"
   ]
  },
  {
   "cell_type": "code",
   "execution_count": 247,
   "metadata": {},
   "outputs": [
    {
     "data": {
      "text/plain": [
       "torch.Size([4, 5])"
      ]
     },
     "execution_count": 247,
     "metadata": {},
     "output_type": "execute_result"
    }
   ],
   "source": [
    "word_attns.shape"
   ]
  },
  {
   "cell_type": "code",
   "execution_count": 248,
   "metadata": {},
   "outputs": [
    {
     "data": {
      "application/vnd.jupyter.widget-view+json": {
       "model_id": "251d7863f1bd4ddeba07caf7452b8798",
       "version_major": 2,
       "version_minor": 0
      },
      "text/plain": [
       "VBox(children=(Label(value='Waiting for wandb.init()...\\r'), FloatProgress(value=0.016668838933340643, max=1.0…"
      ]
     },
     "metadata": {},
     "output_type": "display_data"
    },
    {
     "data": {
      "text/html": [
       "wandb version 0.15.3 is available!  To upgrade, please run:\n",
       " $ pip install wandb --upgrade"
      ],
      "text/plain": [
       "<IPython.core.display.HTML object>"
      ]
     },
     "metadata": {},
     "output_type": "display_data"
    },
    {
     "data": {
      "text/html": [
       "Tracking run with wandb version 0.13.10"
      ],
      "text/plain": [
       "<IPython.core.display.HTML object>"
      ]
     },
     "metadata": {},
     "output_type": "display_data"
    },
    {
     "data": {
      "text/html": [
       "Run data is saved locally in <code>/home/balakrishnan/Personal/Assignments/CS6910-A3/wandb/run-20230520_164421-srp91zys</code>"
      ],
      "text/plain": [
       "<IPython.core.display.HTML object>"
      ]
     },
     "metadata": {},
     "output_type": "display_data"
    },
    {
     "data": {
      "text/html": [
       "Syncing run <strong><a href='https://wandb.ai/cs20b012/CS6910-A3/runs/srp91zys' target=\"_blank\">heatmap_pooki</a></strong> to <a href='https://wandb.ai/cs20b012/CS6910-A3' target=\"_blank\">Weights & Biases</a> (<a href='https://wandb.me/run' target=\"_blank\">docs</a>)<br/>"
      ],
      "text/plain": [
       "<IPython.core.display.HTML object>"
      ]
     },
     "metadata": {},
     "output_type": "display_data"
    },
    {
     "data": {
      "text/html": [
       " View project at <a href='https://wandb.ai/cs20b012/CS6910-A3' target=\"_blank\">https://wandb.ai/cs20b012/CS6910-A3</a>"
      ],
      "text/plain": [
       "<IPython.core.display.HTML object>"
      ]
     },
     "metadata": {},
     "output_type": "display_data"
    },
    {
     "data": {
      "text/html": [
       " View run at <a href='https://wandb.ai/cs20b012/CS6910-A3/runs/srp91zys' target=\"_blank\">https://wandb.ai/cs20b012/CS6910-A3/runs/srp91zys</a>"
      ],
      "text/plain": [
       "<IPython.core.display.HTML object>"
      ]
     },
     "metadata": {},
     "output_type": "display_data"
    },
    {
     "data": {
      "image/png": "[encoded data removed]",
      "text/plain": [
       "<Figure size 800x800 with 2 Axes>"
      ]
     },
     "metadata": {},
     "output_type": "display_data"
    },
    {
     "data": {
      "text/html": [
       "Waiting for W&B process to finish... <strong style=\"color:green\">(success).</strong>"
      ],
      "text/plain": [
       "<IPython.core.display.HTML object>"
      ]
     },
     "metadata": {},
     "output_type": "display_data"
    },
    {
     "data": {
      "application/vnd.jupyter.widget-view+json": {
       "model_id": "3e7667ade2c541caa5985c9414aa98ca",
       "version_major": 2,
       "version_minor": 0
      },
      "text/plain": [
       "VBox(children=(Label(value='0.015 MB of 0.020 MB uploaded (0.000 MB deduped)\\r'), FloatProgress(value=0.721890…"
      ]
     },
     "metadata": {},
     "output_type": "display_data"
    },
    {
     "data": {
      "text/html": [
       " View run <strong style=\"color:#cdcd00\">heatmap_pooki</strong> at: <a href='https://wandb.ai/cs20b012/CS6910-A3/runs/srp91zys' target=\"_blank\">https://wandb.ai/cs20b012/CS6910-A3/runs/srp91zys</a><br/>Synced 4 W&B file(s), 1 media file(s), 0 artifact file(s) and 0 other file(s)"
      ],
      "text/plain": [
       "<IPython.core.display.HTML object>"
      ]
     },
     "metadata": {},
     "output_type": "display_data"
    },
    {
     "data": {
      "text/html": [
       "Find logs at: <code>./wandb/run-20230520_164421-srp91zys/logs</code>"
      ],
      "text/plain": [
       "<IPython.core.display.HTML object>"
      ]
     },
     "metadata": {},
     "output_type": "display_data"
    }
   ],
   "source": [
    "from seaborn import heatmap\n",
    "import matplotlib.pyplot as plt\n",
    "\n",
    "with wandb.init(project='CS6910-A3', name=f'heatmap_{test_eng[test_char]}'):\n",
    "    fig, ax = plt.subplots(figsize=(8, 8))\n",
    "    heatmap(word_attns.cpu(), xticklabels=list(test_eng[test_char]), yticklabels=[tam_to_eng_translit[tam_alphabet.letter_to_index[tam_letter]] for tam_letter in preds[0][:-3]], cmap='gray', ax=ax)\n",
    "    plt.show()\n",
    "    wandb.log({'attn_heatmap': wandb.Image(fig)})"
   ]
  },
  {
   "cell_type": "code",
   "execution_count": null,
   "metadata": {},
   "outputs": [],
   "source": []
  }
 ],
 "metadata": {
  "kernelspec": {
   "display_name": "Python 3",
   "language": "python",
   "name": "python3"
  },
  "language_info": {
   "codemirror_mode": {
    "name": "ipython",
    "version": 3
   },
   "file_extension": ".py",
   "mimetype": "text/x-python",
   "name": "python",
   "nbconvert_exporter": "python",
   "pygments_lexer": "ipython3",
   "version": "3.10.6"
  },
  "orig_nbformat": 4
 },
 "nbformat": 4,
 "nbformat_minor": 2
}
