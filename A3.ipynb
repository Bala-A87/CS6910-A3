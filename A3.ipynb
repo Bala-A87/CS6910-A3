{
 "cells": [
  {
   "attachments": {},
   "cell_type": "markdown",
   "metadata": {},
   "source": [
    "## Loading data"
   ]
  },
  {
   "cell_type": "code",
   "execution_count": 17,
   "metadata": {},
   "outputs": [
    {
     "data": {
      "text/plain": [
       "(51200, 51200)"
      ]
     },
     "execution_count": 17,
     "metadata": {},
     "output_type": "execute_result"
    }
   ],
   "source": [
    "with open('data/aksharantar_sampled/tam/tam_train.csv') as f:\n",
    "    data_pairs = f.readlines()\n",
    "data_given = [pair.split(',')[0].strip().lower() for pair in data_pairs]\n",
    "data_target = [pair.split(',')[1].strip('\\n').strip() for pair in data_pairs]\n",
    "len(data_given), len(data_target)"
   ]
  },
  {
   "attachments": {},
   "cell_type": "markdown",
   "metadata": {},
   "source": [
    "## Building the alphabet"
   ]
  },
  {
   "cell_type": "code",
   "execution_count": 27,
   "metadata": {},
   "outputs": [],
   "source": [
    "class Alphabet():\n",
    "    def __init__(self) -> None:\n",
    "        self.letter_to_index = {}\n",
    "        self.index_to_letter = ['SOW', 'EOW', 'UNK']\n",
    "        self.letter_count = 3\n",
    "    \n",
    "    def addLetter(self, letter: str) -> None:\n",
    "        if letter not in self.letter_to_index:\n",
    "            self.letter_to_index[letter] = self.letter_count\n",
    "            self.index_to_letter.append(letter)\n",
    "            self.letter_count += 1"
   ]
  },
  {
   "cell_type": "code",
   "execution_count": 33,
   "metadata": {},
   "outputs": [
    {
     "name": "stdout",
     "output_type": "stream",
     "text": [
      "29 49\n"
     ]
    }
   ],
   "source": [
    "eng_alphabet, tam_alphabet = Alphabet(), Alphabet()\n",
    "for word in data_given:\n",
    "    for letter in word:\n",
    "        eng_alphabet.addLetter(letter)\n",
    "for word in data_target:\n",
    "    for letter in word:\n",
    "        tam_alphabet.addLetter(letter)\n",
    "print(eng_alphabet.letter_count, tam_alphabet.letter_count)"
   ]
  },
  {
   "attachments": {},
   "cell_type": "markdown",
   "metadata": {},
   "source": [
    "## Seq2Seq model"
   ]
  },
  {
   "cell_type": "code",
   "execution_count": null,
   "metadata": {},
   "outputs": [],
   "source": [
    "# Build encoder and decoder "
   ]
  }
 ],
 "metadata": {
  "kernelspec": {
   "display_name": "Python 3",
   "language": "python",
   "name": "python3"
  },
  "language_info": {
   "codemirror_mode": {
    "name": "ipython",
    "version": 3
   },
   "file_extension": ".py",
   "mimetype": "text/x-python",
   "name": "python",
   "nbconvert_exporter": "python",
   "pygments_lexer": "ipython3",
   "version": "3.10.6"
  },
  "orig_nbformat": 4
 },
 "nbformat": 4,
 "nbformat_minor": 2
}
